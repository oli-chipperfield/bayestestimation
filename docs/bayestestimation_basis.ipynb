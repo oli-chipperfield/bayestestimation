{
 "cells": [
  {
   "cell_type": "markdown",
   "metadata": {},
   "source": [
    "## bayestestimation basis\n",
    "\n",
    "The bayestestimation module uses a hierachical Bayesian model to estimate the posterior distributions of two samples, the parameters of these samples can be approximated by simulation, as can the difference in the paramters.\n",
    "\n",
    "#### Sections\n",
    "\n",
    "- Specifying the hierachial model\n",
    "- Estimating the posterior distribution\n",
    "- Estimating the Bayes Factor\n",
    "\n",
    "#### Specifying the hierachial model"
   ]
  },
  {
   "cell_type": "markdown",
   "metadata": {},
   "source": [
    "The module largely follows the Bayesian-estimation-supercedes-the-t-test (BEST) implementation as specified by Kruschke ([link](https://pdfs.semanticscholar.org/dea6/0927efbd1f284b4132eae3461ea7ce0fb62a.pdf).\n",
    "\n",
    "Let $Y_A$ and $Y_B$ represent samples of continuous data from populations $A$ and $B$.  The distributions of $Y_A$ and $Y_B$ can be specified using the following hierachial model.\n",
    " \n",
    "$$ Y_A \\sim \\textrm{T}(\\nu, \\mu_A, \\sigma_A) $$\n",
    "\n",
    "$$ Y_B \\sim \\textrm{T}(\\nu, \\mu_B, \\sigma_B) $$\n",
    "\n",
    "$$ \\mu_A, \\mu_B \\sim \\textrm{N}(\\mu, 2s) $$\n",
    "\n",
    "$$ \\sigma_A, \\sigma_B \\sim \\textrm{Inv-Gamma}(\\alpha, \\beta) $$\n",
    "\n",
    "$$ \\nu \\sim \\textrm{Exp(+1)}(\\phi) $$\n",
    "\n",
    "Where $\\mu$, $s$, $\\alpha$, $\\beta$ and $\\phi$ are constants. $\\textrm{Exp(+1)}$ represents an exponential distribution shifted by +1.  Following Krusckhe, the default value for $\\phi$ is 1/30.  Also following Kruschke, the defualt values for $\\mu$ and $s$ are the sample mean of the combined samples of $Y_A$ and $Y_B$ ($\\bar{Y}$), and the combined sample standard deviation of $Y_A$ and $Y_B$, respectively.\n",
    "\n",
    "Deviating from Kruscke, the prior distributions of $\\sigma_A$ and $\\sigma_B$ are modelled using an inverse-gamma distribution.  Using default $\\alpha$ and $\\beta$ values of 0.001 the inverse-gamma is weakly informative.\n"
   ]
  },
  {
   "cell_type": "markdown",
   "metadata": {},
   "source": [
    "#### Estimating the posterior distribution \n",
    "\n",
    "Estimation of the posterior distributions of $\\mu_A$, $\\mu_B$, $\\sigma_A$, $\\sigma_B$ is carried out using [pystan's](https://pystan.readthedocs.io/en/latest/index.html) MCMC sampling.\n",
    "\n",
    "The parameter $\\mu_B - \\mu_A$ can easily be estimated using the draws from the posteriors of $\\mu_A$ and $\\mu_B$."
   ]
  },
  {
   "cell_type": "markdown",
   "metadata": {},
   "source": [
    "#### Estimating the Bayes Factor\n",
    "\n",
    "(watch this space)\n"
   ]
  },
  {
   "cell_type": "code",
   "execution_count": null,
   "metadata": {},
   "outputs": [],
   "source": []
  }
 ],
 "metadata": {
  "kernelspec": {
   "display_name": "Python 3",
   "language": "python",
   "name": "python3"
  },
  "language_info": {
   "codemirror_mode": {
    "name": "ipython",
    "version": 3
   },
   "file_extension": ".py",
   "mimetype": "text/x-python",
   "name": "python",
   "nbconvert_exporter": "python",
   "pygments_lexer": "ipython3",
   "version": "3.7.4"
  }
 },
 "nbformat": 4,
 "nbformat_minor": 2
}
